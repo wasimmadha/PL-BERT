{
 "cells": [
  {
   "cell_type": "code",
   "execution_count": 2,
   "metadata": {},
   "outputs": [
    {
     "name": "stderr",
     "output_type": "stream",
     "text": [
      "/home/PL-BERT/venv/lib/python3.10/site-packages/tqdm/auto.py:21: TqdmWarning: IProgress not found. Please update jupyter and ipywidgets. See https://ipywidgets.readthedocs.io/en/stable/user_install.html\n",
      "  from .autonotebook import tqdm as notebook_tqdm\n"
     ]
    }
   ],
   "source": [
    "from datasets import load_from_disk\n",
    "from transformers import AutoTokenizer"
   ]
  },
  {
   "cell_type": "code",
   "execution_count": 3,
   "metadata": {},
   "outputs": [
    {
     "name": "stderr",
     "output_type": "stream",
     "text": [
      "/home/PL-BERT/venv/lib/python3.10/site-packages/huggingface_hub/file_download.py:797: FutureWarning: `resume_download` is deprecated and will be removed in version 1.0.0. Downloads always resume when possible. If you want to force a new download, use `force_download=True`.\n",
      "  warnings.warn(\n"
     ]
    }
   ],
   "source": [
    "multi_lingual_tokenizer = AutoTokenizer.from_pretrained(\"bert-base-multilingual-cased\")"
   ]
  },
  {
   "cell_type": "code",
   "execution_count": 4,
   "metadata": {},
   "outputs": [],
   "source": [
    "dataset_hi = load_from_disk(\"/home/PL-BERT/data/hi\")\n",
    "dataset_en = load_from_disk(\"/home/PL-BERT/data/en_ds\")"
   ]
  },
  {
   "cell_type": "code",
   "execution_count": 5,
   "metadata": {},
   "outputs": [
    {
     "data": {
      "text/plain": [
       "'[CLS] # # v [SEP]'"
      ]
     },
     "execution_count": 5,
     "metadata": {},
     "output_type": "execute_result"
    }
   ],
   "source": [
    "multi_lingual_tokenizer.decode([101, 108, 108, 190, 102],)"
   ]
  },
  {
   "cell_type": "code",
   "execution_count": 6,
   "metadata": {},
   "outputs": [],
   "source": [
    "# # Function to remove 102 and 108 from each list in input_ids\n",
    "# def remove_tokens(input_ids):\n",
    "#     removed_spec_input_ids = []\n",
    "#     for single_input_ids in input_ids:\n",
    "#         removed_spec_input_ids.append([token for token in single_input_ids if token not in (102, 101)])\n",
    "#     return removed_spec_input_ids\n",
    "\n",
    "# # Apply the function to the input_ids column\n",
    "# dataset_mapped = dataset_en.map(lambda x: {\"input_ids\": remove_tokens(x[\"input_ids\"])})"
   ]
  },
  {
   "cell_type": "code",
   "execution_count": 7,
   "metadata": {},
   "outputs": [],
   "source": [
    "# dataset_mapped.save_to_disk(\"/home/PL-BERT/data/en_ds\")"
   ]
  },
  {
   "cell_type": "code",
   "execution_count": 8,
   "metadata": {},
   "outputs": [
    {
     "data": {
      "text/plain": [
       "[[30409],\n",
       " [108, 108, 190],\n",
       " [13258],\n",
       " [108, 108, 170, 10238],\n",
       " [108, 108, 186],\n",
       " [113],\n",
       " [11175],\n",
       " [10105],\n",
       " [44380],\n",
       " [108, 108, 77586],\n",
       " [10108],\n",
       " [11238],\n",
       " [19964],\n",
       " [108, 108, 33003],\n",
       " [16222],\n",
       " [108, 108, 193],\n",
       " [15767],\n",
       " [114],\n",
       " [10124],\n",
       " [10151],\n",
       " [28446],\n",
       " [11775],\n",
       " [14054],\n",
       " [171],\n",
       " [108, 108, 193],\n",
       " [108, 108, 171, 10161],\n",
       " [108, 108, 10298],\n",
       " [117],\n",
       " [10479],\n",
       " [12469],\n",
       " [53895],\n",
       " [10142],\n",
       " [10105],\n",
       " [11121],\n",
       " [119],\n",
       " [18021],\n",
       " [10106],\n",
       " [25369],\n",
       " [35057],\n",
       " [117],\n",
       " [13258],\n",
       " [108, 108, 170, 10238],\n",
       " [108, 108, 186],\n",
       " [13457],\n",
       " [11342],\n",
       " [108, 108, 171, 10157],\n",
       " [108, 108, 171, 13020],\n",
       " [108, 108, 175],\n",
       " [10160],\n",
       " [10105],\n",
       " [12089],\n",
       " [10108],\n",
       " [44380],\n",
       " [117],\n",
       " [10111],\n",
       " [10106],\n",
       " [10551],\n",
       " [46634],\n",
       " [12403],\n",
       " [11367],\n",
       " [10105],\n",
       " [28446],\n",
       " [10655],\n",
       " [16414],\n",
       " [12648],\n",
       " [22773],\n",
       " [17264],\n",
       " [10111],\n",
       " [10106],\n",
       " [26051],\n",
       " [11769],\n",
       " [117],\n",
       " [10105],\n",
       " [28446],\n",
       " [10655],\n",
       " [12648],\n",
       " [22773],\n",
       " [17264],\n",
       " [119],\n",
       " [10167],\n",
       " [26051],\n",
       " [44380],\n",
       " [10261],\n",
       " [10134],\n",
       " [10105],\n",
       " [12628],\n",
       " [17038],\n",
       " [28446],\n",
       " [10114],\n",
       " [23707],\n",
       " [169],\n",
       " [14021],\n",
       " [46358],\n",
       " [12140],\n",
       " [117],\n",
       " [10155],\n",
       " [36135],\n",
       " [119],\n",
       " [14988],\n",
       " [17466],\n",
       " [10551],\n",
       " [46634],\n",
       " [12403],\n",
       " [10655],\n",
       " [16414],\n",
       " [12648],\n",
       " [17264],\n",
       " [10422],\n",
       " [12648],\n",
       " [14025],\n",
       " [11132],\n",
       " [12000],\n",
       " [23626],\n",
       " [10551],\n",
       " [46634],\n",
       " [12449],\n",
       " [10422],\n",
       " [49686],\n",
       " [22193],\n",
       " [161],\n",
       " [108, 108, 140],\n",
       " [21572],\n",
       " [108, 108, 10135],\n",
       " [22773],\n",
       " [11132],\n",
       " [39769],\n",
       " [108, 108, 48201],\n",
       " [12648],\n",
       " [22773],\n",
       " [11132],\n",
       " [161],\n",
       " [108, 108, 140],\n",
       " [21572],\n",
       " [108, 108, 10135],\n",
       " [10108],\n",
       " [12699],\n",
       " [108, 108, 194],\n",
       " [108, 108, 11161],\n",
       " [118],\n",
       " [33894],\n",
       " [10551],\n",
       " [46634],\n",
       " [16222],\n",
       " [10422],\n",
       " [58877],\n",
       " [11595],\n",
       " [172],\n",
       " [112],\n",
       " [71193],\n",
       " [10422],\n",
       " [25171],\n",
       " [108, 108, 187],\n",
       " [10464],\n",
       " [113],\n",
       " [59725],\n",
       " [108, 108, 157],\n",
       " [114],\n",
       " [111],\n",
       " [10551],\n",
       " [10422],\n",
       " [43106],\n",
       " [108, 108, 188],\n",
       " [154],\n",
       " [108, 108, 23037],\n",
       " [108, 108, 12132],\n",
       " [108, 108, 181],\n",
       " [10422],\n",
       " [39769],\n",
       " [108, 108, 48201],\n",
       " [12648],\n",
       " [22773],\n",
       " [10422],\n",
       " [88454],\n",
       " [108, 108, 29956, 10526],\n",
       " [10114],\n",
       " [156],\n",
       " [108, 108, 176, 10147],\n",
       " [108, 108, 15546],\n",
       " [10114],\n",
       " [20567],\n",
       " [108, 108, 22131],\n",
       " [108, 108, 12729],\n",
       " [10551],\n",
       " [46634],\n",
       " [19964],\n",
       " [10422],\n",
       " [58877],\n",
       " [17216],\n",
       " [11595],\n",
       " [10422],\n",
       " [25171],\n",
       " [108, 108, 187],\n",
       " [10464],\n",
       " [117],\n",
       " [10551],\n",
       " [113],\n",
       " [26956],\n",
       " [108, 108, 157],\n",
       " [114],\n",
       " [111],\n",
       " [11003],\n",
       " [10422],\n",
       " [63672],\n",
       " [108, 108, 51428],\n",
       " [108, 108, 181],\n",
       " [83400],\n",
       " [10422],\n",
       " [39769],\n",
       " [108, 108, 48201],\n",
       " [22773],\n",
       " [92387],\n",
       " [108, 108, 69863],\n",
       " [14501],\n",
       " [12628],\n",
       " [12648],\n",
       " [14025],\n",
       " [28913],\n",
       " [58191],\n",
       " [10635],\n",
       " [23626],\n",
       " [12628],\n",
       " [12648],\n",
       " [14025],\n",
       " [117],\n",
       " [10655],\n",
       " [12648],\n",
       " [17264],\n",
       " [26051],\n",
       " [11769],\n",
       " [10422],\n",
       " [12648],\n",
       " [14025],\n",
       " [117],\n",
       " [10655],\n",
       " [12648],\n",
       " [17264],\n",
       " [10422],\n",
       " [58877],\n",
       " [11595],\n",
       " [10104],\n",
       " [12991],\n",
       " [113],\n",
       " [10169],\n",
       " [38571],\n",
       " [108, 108, 182],\n",
       " [15734],\n",
       " [108, 108, 30141],\n",
       " [108, 108, 60818],\n",
       " [114],\n",
       " [10422],\n",
       " [25171],\n",
       " [108, 108, 187],\n",
       " [10464],\n",
       " [117],\n",
       " [10551],\n",
       " [117],\n",
       " [11003],\n",
       " [111],\n",
       " [11598],\n",
       " [26051],\n",
       " [44380],\n",
       " [10655],\n",
       " [12648],\n",
       " [17264],\n",
       " [10422],\n",
       " [12648],\n",
       " [14025],\n",
       " [12628],\n",
       " [12000],\n",
       " [23626],\n",
       " [26051],\n",
       " [73018],\n",
       " [11132],\n",
       " [10867],\n",
       " [108, 108, 187],\n",
       " [48024],\n",
       " [108, 108, 10148],\n",
       " [108, 108, 67810],\n",
       " [26051],\n",
       " [77776],\n",
       " [10422],\n",
       " [12648],\n",
       " [14025],\n",
       " [117],\n",
       " [10655],\n",
       " [12648],\n",
       " [17264],\n",
       " [12628],\n",
       " [10867],\n",
       " [108, 108, 187],\n",
       " [48024],\n",
       " [108, 108, 10148],\n",
       " [108, 108, 67810],\n",
       " [13679],\n",
       " [108, 108, 187],\n",
       " [27746],\n",
       " [108, 108, 12718, 17661],\n",
       " [23608],\n",
       " [139],\n",
       " [146],\n",
       " [140],\n",
       " [146],\n",
       " [140],\n",
       " [146],\n",
       " [140],\n",
       " [149],\n",
       " [146],\n",
       " [156],\n",
       " [150],\n",
       " [152],\n",
       " [99843],\n",
       " [108, 108, 157],\n",
       " [140],\n",
       " [152],\n",
       " [150],\n",
       " [140],\n",
       " [162],\n",
       " [140],\n",
       " [149],\n",
       " [146],\n",
       " [151],\n",
       " [144],\n",
       " [138],\n",
       " [155],\n",
       " [140],\n",
       " [145],\n",
       " [146],\n",
       " [159],\n",
       " [142],\n",
       " [156],\n",
       " [99843],\n",
       " [108, 108, 157],\n",
       " [140],\n",
       " [152],\n",
       " [150],\n",
       " [28446],\n",
       " [17416],\n",
       " [171],\n",
       " [108, 108, 193],\n",
       " [108, 108, 171, 10161],\n",
       " [108, 108, 10298, 10107],\n",
       " [11595],\n",
       " [10104],\n",
       " [88944],\n",
       " [171],\n",
       " [108, 108, 193],\n",
       " [108, 108, 171, 10161],\n",
       " [108, 108, 10298, 10107],\n",
       " [24371],\n",
       " [11426],\n",
       " [19964],\n",
       " [108, 108, 33003],\n",
       " [16222],\n",
       " [108, 108, 193],\n",
       " [15767],\n",
       " [24711],\n",
       " [108, 108, 187],\n",
       " [15506],\n",
       " [108, 108, 11161],\n",
       " [108, 108, 10303],\n",
       " [108, 108, 10141],\n",
       " [10188],\n",
       " [25369],\n",
       " [35057],\n",
       " [92387],\n",
       " [108, 108, 69863],\n",
       " [14501],\n",
       " [17930],\n",
       " [16531],\n",
       " [108, 108, 10298, 10107],\n",
       " [10142],\n",
       " [12991]]"
      ]
     },
     "execution_count": 8,
     "metadata": {},
     "output_type": "execute_result"
    }
   ],
   "source": [
    "dataset_en[0]['input_ids']"
   ]
  },
  {
   "cell_type": "code",
   "execution_count": 9,
   "metadata": {},
   "outputs": [],
   "source": [
    "def get_text(input_ids):\n",
    "    decoded = multi_lingual_tokenizer.batch_decode(input_ids)\n",
    "    text = ''\n",
    "    for token in decoded:\n",
    "        if token.startswith('# # '):\n",
    "            text += token[2:]  # Remove ## and append without space\n",
    "        else:\n",
    "            text += ' ' + token  # Add space before new word\n",
    "    text = text.strip().replace(\"# \", \"\")  # Remove leading/trailing spaces\n",
    "\n",
    "    return text"
   ]
  },
  {
   "cell_type": "code",
   "execution_count": 10,
   "metadata": {},
   "outputs": [],
   "source": [
    "# Map the get_text function and create a new column 'text'\n",
    "dataset_en = dataset_en.map(lambda x: {\"text\": get_text(x[\"input_ids\"])})"
   ]
  },
  {
   "cell_type": "code",
   "execution_count": 11,
   "metadata": {},
   "outputs": [],
   "source": [
    "# Map the get_text function and create a new column 'text'\n",
    "dataset_hi = dataset_hi.map(lambda x: {\"text\": get_text(x[\"input_ids\"])})"
   ]
  },
  {
   "cell_type": "code",
   "execution_count": 12,
   "metadata": {},
   "outputs": [
    {
     "data": {
      "text/plain": [
       "Dataset({\n",
       "    features: ['id', 'url', 'title', 'input_ids', 'phonemes', 'text'],\n",
       "    num_rows: 34475\n",
       "})"
      ]
     },
     "execution_count": 12,
     "metadata": {},
     "output_type": "execute_result"
    }
   ],
   "source": [
    "dataset_hi"
   ]
  },
  {
   "cell_type": "code",
   "execution_count": 11,
   "metadata": {},
   "outputs": [],
   "source": [
    "# Function to get unique words from the 'text' column\n",
    "def get_unique_words(dataset):\n",
    "    all_text = \" \".join(dataset[\"text\"])\n",
    "    unique_words = set(all_text.split())\n",
    "    return unique_words"
   ]
  },
  {
   "cell_type": "code",
   "execution_count": 17,
   "metadata": {},
   "outputs": [
    {
     "name": "stdout",
     "output_type": "stream",
     "text": [
      "412107\n"
     ]
    }
   ],
   "source": [
    "# Get unique words from the dataset and print them\n",
    "en_unique_words = get_unique_words(dataset_en)\n",
    "print(len(en_unique_words))"
   ]
  },
  {
   "cell_type": "code",
   "execution_count": 18,
   "metadata": {},
   "outputs": [
    {
     "name": "stdout",
     "output_type": "stream",
     "text": [
      "369209\n"
     ]
    }
   ],
   "source": [
    "# Get unique words from the dataset and print them\n",
    "hi_unique_words = get_unique_words(dataset_hi)\n",
    "print(len(hi_unique_words))"
   ]
  },
  {
   "cell_type": "code",
   "execution_count": 21,
   "metadata": {},
   "outputs": [
    {
     "name": "stdout",
     "output_type": "stream",
     "text": [
      "Data written to hi_unique_words.json\n"
     ]
    }
   ],
   "source": [
    "import json\n",
    "\n",
    "file_path = 'hi_unique_words.json'\n",
    "\n",
    "with open(file_path, 'w', encoding='utf-8') as f:\n",
    "    json.dump({\"hi_unique_words\": list(hi_unique_words)}, f, ensure_ascii=False, indent=4)\n",
    "\n",
    "print(f\"Data written to {file_path}\")"
   ]
  },
  {
   "cell_type": "code",
   "execution_count": 23,
   "metadata": {},
   "outputs": [
    {
     "name": "stdout",
     "output_type": "stream",
     "text": [
      "Data written to en_unique_words.json\n"
     ]
    }
   ],
   "source": [
    "import json\n",
    "\n",
    "file_path = 'en_unique_words.json'\n",
    "\n",
    "with open(file_path, 'w', encoding='utf-8') as f:\n",
    "    json.dump({\"en_unique_words\": list(en_unique_words)}, f, ensure_ascii=False, indent=4)\n",
    "\n",
    "print(f\"Data written to {file_path}\")"
   ]
  },
  {
   "cell_type": "code",
   "execution_count": 22,
   "metadata": {},
   "outputs": [],
   "source": [
    "from collections import Counter\n",
    "from tqdm import tqdm\n",
    "import json"
   ]
  },
  {
   "cell_type": "code",
   "execution_count": 24,
   "metadata": {},
   "outputs": [],
   "source": [
    "hi_word_counter = Counter()\n",
    "en_word_counter = Counter()"
   ]
  },
  {
   "cell_type": "code",
   "execution_count": 25,
   "metadata": {},
   "outputs": [
    {
     "name": "stderr",
     "output_type": "stream",
     "text": [
      "Processing words: 100%|██████████| 34475/34475 [00:01<00:00, 18125.30sentence/s]\n"
     ]
    },
    {
     "name": "stdout",
     "output_type": "stream",
     "text": [
      "Word frequencies saved to hi_word_frequencies.json\n"
     ]
    }
   ],
   "source": [
    "# Iterate through the text column of the dataset with a progress bar\n",
    "for text in tqdm(dataset_hi['text'], desc=\"Processing words\", unit=\"sentence\"):\n",
    "    words = text.lower().split()  # Convert to lowercase and split by spaces\n",
    "    hi_word_counter.update(words)  # Update word count in Counter\n",
    "\n",
    "# Save the word frequencies to a JSON file\n",
    "output_file = 'hi_word_frequencies.json'\n",
    "with open(output_file, 'w', encoding='utf-8') as f:\n",
    "    json.dump(hi_word_counter, f, ensure_ascii=False, indent=4)\n",
    "\n",
    "print(f\"Word frequencies saved to {output_file}\")"
   ]
  },
  {
   "cell_type": "code",
   "execution_count": 26,
   "metadata": {},
   "outputs": [
    {
     "name": "stderr",
     "output_type": "stream",
     "text": [
      "Processing words: 100%|██████████| 34475/34475 [00:02<00:00, 13342.41sentence/s]\n"
     ]
    },
    {
     "name": "stdout",
     "output_type": "stream",
     "text": [
      "Word frequencies saved to en_word_frequencies.json\n"
     ]
    }
   ],
   "source": [
    "# Iterate through the text column of the dataset with a progress bar\n",
    "for text in tqdm(dataset_en['text'], desc=\"Processing words\", unit=\"sentence\"):\n",
    "    words = text.lower().split()  # Convert to lowercase and split by spaces\n",
    "    en_word_counter.update(words)  # Update word count in Counter\n",
    "\n",
    "# Save the word frequencies to a JSON file\n",
    "output_file = 'en_word_frequencies.json'\n",
    "with open(output_file, 'w', encoding='utf-8') as f:\n",
    "    json.dump(en_word_counter, f, ensure_ascii=False, indent=4)\n",
    "\n",
    "print(f\"Word frequencies saved to {output_file}\")"
   ]
  },
  {
   "cell_type": "code",
   "execution_count": null,
   "metadata": {},
   "outputs": [],
   "source": []
  }
 ],
 "metadata": {
  "kernelspec": {
   "display_name": "Python 3",
   "language": "python",
   "name": "python3"
  },
  "language_info": {
   "codemirror_mode": {
    "name": "ipython",
    "version": 3
   },
   "file_extension": ".py",
   "mimetype": "text/x-python",
   "name": "python",
   "nbconvert_exporter": "python",
   "pygments_lexer": "ipython3",
   "version": "3.10.15"
  }
 },
 "nbformat": 4,
 "nbformat_minor": 2
}
